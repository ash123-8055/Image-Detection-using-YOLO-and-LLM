{
 "cells": [
  {
   "cell_type": "code",
   "execution_count": 1,
   "metadata": {},
   "outputs": [],
   "source": [
    "ROOT_DIR = r\" \" # Root directory of the project"
   ]
  },
  {
   "cell_type": "code",
   "execution_count": null,
   "metadata": {
    "colab": {
     "base_uri": "https://localhost:8080/"
    },
    "id": "ELGGHd6dcubz",
    "outputId": "b488d1eb-94de-4f7f-fabd-604e307cf36f"
   },
   "outputs": [],
   "source": [
    "import os\n",
    "from ultralytics import YOLO\n",
    "model = YOLO(\"yolov8n.pt\")\n",
    "results = model.train(data=os.path.join(ROOT_DIR, \"config.yaml\"), epochs=100)"
   ]
  },
  {
   "cell_type": "code",
   "execution_count": null,
   "metadata": {
    "colab": {
     "base_uri": "https://localhost:8080/"
    },
    "id": "-Zz3YPszpAWO",
    "outputId": "8cfc33cc-5b4d-4f49-d13e-046dc7677bd1"
   },
   "outputs": [],
   "source": [
    "!yolo task=detect mode=predict model=\" \" conf=0.70 source=\" \" # Path to the image to be detected and the model to be used"
   ]
  },
  {
   "cell_type": "code",
   "execution_count": null,
   "metadata": {},
   "outputs": [],
   "source": [
    "import cv2\n",
    "import numpy as np\n",
    "from ultralytics import YOLO\n",
    "\n",
    "def toggle_fullscreen(window_name):\n",
    "    current_state = cv2.getWindowProperty(window_name, cv2.WND_PROP_FULLSCREEN)\n",
    "    cv2.setWindowProperty(window_name, cv2.WND_PROP_FULLSCREEN, \n",
    "                          cv2.WINDOW_NORMAL if current_state == cv2.WINDOW_FULLSCREEN else cv2.WINDOW_FULLSCREEN)\n",
    "\n",
    "def draw_gui_bar(img, window_width):\n",
    "    bar_height = 30\n",
    "    cv2.rectangle(img, (0, 0), (window_width, bar_height), (60, 60, 60), -1)\n",
    "    \n",
    "    # Draw close button\n",
    "    button_size = 20\n",
    "    button_padding = 5\n",
    "    button_pos = (window_width - button_size - button_padding, button_padding)\n",
    "    cv2.rectangle(img, button_pos, (button_pos[0] + button_size, button_pos[1] + button_size), (200, 0, 0), -1)\n",
    "    \n",
    "    cv2.line(img, (button_pos[0] + 5, button_pos[1] + 5), \n",
    "             (button_pos[0] + button_size - 5, button_pos[1] + button_size - 5), (255, 255, 255), 2)\n",
    "    cv2.line(img, (button_pos[0] + button_size - 5, button_pos[1] + 5), \n",
    "             (button_pos[0] + 5, button_pos[1] + button_size - 5), (255, 255, 255), 2)\n",
    "    \n",
    "    return bar_height, button_pos, button_size\n",
    "\n",
    "def is_mouse_over_button(mouse_pos, button_pos, button_size):\n",
    "    return (button_pos[0] < mouse_pos[0] < button_pos[0] + button_size and\n",
    "            button_pos[1] < mouse_pos[1] < button_pos[1] + button_size)\n",
    "\n",
    "model = YOLO(' ') # Path to the model to be used\n",
    "\n",
    "video_path = r\" \" # Path to the video to be detected\n",
    "cap = cv2.VideoCapture(video_path)\n",
    "\n",
    "if not cap.isOpened():\n",
    "    print(\"Error opening video stream or file\")\n",
    "\n",
    "window_name = 'Video Detection'\n",
    "cv2.namedWindow(window_name, cv2.WINDOW_NORMAL)\n",
    "cv2.setWindowProperty(window_name, cv2.WND_PROP_FULLSCREEN, cv2.WINDOW_FULLSCREEN)\n",
    "\n",
    "mouse_x, mouse_y = 0, 0\n",
    "is_mouse_down = False\n",
    "should_exit = False\n",
    "\n",
    "def mouse_callback(event, x, y, flags, param):\n",
    "    global mouse_x, mouse_y, is_mouse_down, should_exit\n",
    "    mouse_x, mouse_y = x, y\n",
    "    \n",
    "    if event == cv2.EVENT_LBUTTONDOWN:\n",
    "        is_mouse_down = True\n",
    "    elif event == cv2.EVENT_LBUTTONUP:\n",
    "        if is_mouse_down and is_mouse_over_button((x, y), close_button_pos, close_button_size):\n",
    "            should_exit = True\n",
    "        is_mouse_down = False\n",
    "\n",
    "cv2.setMouseCallback(window_name, mouse_callback)\n",
    "\n",
    "screen_width = cv2.getWindowImageRect(window_name)[2]\n",
    "screen_height = cv2.getWindowImageRect(window_name)[3]\n",
    "\n",
    "while cap.isOpened() and not should_exit:\n",
    "    ret, frame = cap.read()\n",
    "    if not ret:\n",
    "        break\n",
    "\n",
    "    frame = cv2.resize(frame, (screen_width, screen_height))\n",
    "\n",
    "    results = model(frame)\n",
    "    annotated_frame = results[0].plot()\n",
    "\n",
    "    bar_height, close_button_pos, close_button_size = draw_gui_bar(annotated_frame, screen_width)\n",
    "\n",
    "    if is_mouse_over_button((mouse_x, mouse_y), close_button_pos, close_button_size):\n",
    "        annotated_frame = cv2.circle(annotated_frame, (mouse_x, mouse_y), 5, (0, 0, 255), -1)\n",
    "    \n",
    "    cv2.imshow(window_name, annotated_frame)\n",
    "\n",
    "    key = cv2.waitKey(1) & 0xFF\n",
    "    if key == ord('q'):\n",
    "        break\n",
    "    elif key == ord('f'):\n",
    "        toggle_fullscreen(window_name)\n",
    "\n",
    "cap.release()\n",
    "cv2.destroyAllWindows()"
   ]
  }
 ],
 "metadata": {
  "colab": {
   "provenance": []
  },
  "kernelspec": {
   "display_name": "Python 3",
   "language": "python",
   "name": "python3"
  },
  "language_info": {
   "codemirror_mode": {
    "name": "ipython",
    "version": 3
   },
   "file_extension": ".py",
   "mimetype": "text/x-python",
   "name": "python",
   "nbconvert_exporter": "python",
   "pygments_lexer": "ipython3",
   "version": "3.12.4"
  }
 },
 "nbformat": 4,
 "nbformat_minor": 0
}
